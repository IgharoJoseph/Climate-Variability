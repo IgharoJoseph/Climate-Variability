{
 "cells": [
  {
   "cell_type": "markdown",
   "id": "42c0557d-6e46-4ca0-9b58-9cefd9b1d1fd",
   "metadata": {},
   "source": [
    "# Description \n",
    "The code was developed to assess climate variability in Benue Basin, Nigeria "
   ]
  },
  {
   "cell_type": "code",
   "execution_count": 2,
   "id": "acb7c40a-213f-40b7-b9c6-b517d4b40da0",
   "metadata": {},
   "outputs": [
    {
     "data": {
      "text/plain": [
       "'\\nconda install -c conda-forge geopandas\\nconda install -c conda-forge matplotlib\\nconda install -c conda-forge geojson\\nconda install -c conda-forge folium\\n'"
      ]
     },
     "execution_count": 2,
     "metadata": {},
     "output_type": "execute_result"
    }
   ],
   "source": [
    "# Install jupyter lab + git extension in not installed\n",
    "#conda install -c conda-forge jupyterlab jupyterlab-git\n",
    "\n",
    "# Install packages\n",
    "\"\"\"\n",
    "conda install -c conda-forge geopandas\n",
    "conda install -c conda-forge matplotlib\n",
    "conda install -c conda-forge geojson\n",
    "conda install -c conda-forge folium\n",
    "\"\"\"\n",
    "# ... install other packages\n",
    "\n"
   ]
  },
  {
   "cell_type": "code",
   "execution_count": 1,
   "id": "7e253ab9-e872-41ba-931d-f701a9430768",
   "metadata": {},
   "outputs": [
    {
     "ename": "ModuleNotFoundError",
     "evalue": "No module named 'geopandas'",
     "output_type": "error",
     "traceback": [
      "\u001b[1;31m---------------------------------------------------------------------------\u001b[0m",
      "\u001b[1;31mModuleNotFoundError\u001b[0m                       Traceback (most recent call last)",
      "Cell \u001b[1;32mIn[1], line 1\u001b[0m\n\u001b[1;32m----> 1\u001b[0m \u001b[38;5;28;01mimport\u001b[39;00m \u001b[38;5;21;01mgeopandas\u001b[39;00m \u001b[38;5;28;01mas\u001b[39;00m \u001b[38;5;21;01mgpd\u001b[39;00m\n\u001b[0;32m      2\u001b[0m \u001b[38;5;28;01mimport\u001b[39;00m \u001b[38;5;21;01mmatplotlib\u001b[39;00m\u001b[38;5;21;01m.\u001b[39;00m\u001b[38;5;21;01mpyplot\u001b[39;00m \u001b[38;5;28;01mas\u001b[39;00m \u001b[38;5;21;01mplt\u001b[39;00m\n\u001b[0;32m      3\u001b[0m \u001b[38;5;28;01mimport\u001b[39;00m \u001b[38;5;21;01mcontextily\u001b[39;00m \u001b[38;5;28;01mas\u001b[39;00m \u001b[38;5;21;01mctx\u001b[39;00m\n",
      "\u001b[1;31mModuleNotFoundError\u001b[0m: No module named 'geopandas'"
     ]
    }
   ],
   "source": [
    "import geopandas as gpd\n",
    "import matplotlib.pyplot as plt\n",
    "import contextily as ctx\n",
    "\n",
    "# Load the shapefile\n",
    "aoi = gpd.read_file('BasinBoundaryWGS84/Boundary.shp')\n",
    "\n",
    "# Project the data to Web Mercator (EPSG:26393)\n",
    "aoi = aoi.to_crs(epsg=26393)\n",
    "\n",
    "# Plot the AOI with OpenStreetMap background\n",
    "fig, ax = plt.subplots(figsize=(10, 10))\n",
    "aoi.plot(ax=ax, alpha=0.5, edgecolor='k')\n",
    "ctx.add_basemap(ax, source=ctx.providers.OpenStreetMap.Mapnik)\n",
    "plt.title('AOI with OpenStreetMap Background')\n",
    "plt.show()"
   ]
  },
  {
   "cell_type": "code",
   "execution_count": null,
   "id": "e1da9d22-fa72-44a6-afaf-218f2e9174e3",
   "metadata": {},
   "outputs": [],
   "source": []
  }
 ],
 "metadata": {
  "kernelspec": {
   "display_name": "Python 3 (ipykernel)",
   "language": "python",
   "name": "python3"
  },
  "language_info": {
   "codemirror_mode": {
    "name": "ipython",
    "version": 3
   },
   "file_extension": ".py",
   "mimetype": "text/x-python",
   "name": "python",
   "nbconvert_exporter": "python",
   "pygments_lexer": "ipython3",
   "version": "3.12.4"
  }
 },
 "nbformat": 4,
 "nbformat_minor": 5
}
